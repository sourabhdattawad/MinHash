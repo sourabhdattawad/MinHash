{
 "cells": [
  {
   "cell_type": "code",
   "execution_count": 567,
   "metadata": {},
   "outputs": [],
   "source": [
    "import numpy as np\n",
    "from collections import Counter\n",
    "import random\n",
    "from copy import copy, deepcopy\n"
   ]
  },
  {
   "cell_type": "code",
   "execution_count": 710,
   "metadata": {},
   "outputs": [],
   "source": [
    "def get_document_shingles(docs: list, k: int):\n",
    "    \n",
    "    shingles = []\n",
    "    for doc in docs:\n",
    "        doc = doc.lower()\n",
    "        doc = \"\".join(doc.split())\n",
    "        doc_shingle  = []\n",
    "        \n",
    "        for i in range(0 , len(doc)-k+1):\n",
    "            doc_shingle.append(doc[i:i+k])\n",
    "        shingles.append(doc_shingle)\n",
    "\n",
    "    return shingles\n",
    "\n",
    "\n",
    "def get_shingles_vs_docs(doc_shingles : list):\n",
    "    \n",
    "    all_shingles = np.concatenate(doc_shingles, axis=None)\n",
    "    shingle_store = {}\n",
    "    index = 0\n",
    "    for i in range(len(all_shingles)):\n",
    "        if all_shingles[i] not in shingle_store:\n",
    "            shingle_store[all_shingles[i]] = index\n",
    "            index+=1\n",
    "                        \n",
    "    number_of_docs = len(doc_shingles)\n",
    "    shingle_doc_matrix = np.zeros((len(shingle_store), number_of_docs))\n",
    "    \n",
    "    for doc_id  in range(len(doc_shingles)):\n",
    "        \n",
    "        for shingle in shingle_store:\n",
    "            if shingle in  doc_shingles[doc_id]:\n",
    "                shingle_doc_matrix[shingle_store[shingle]][doc_id] = shingle_store[shingle]\n",
    "\n",
    "    return shingle_doc_matrix, shingle_store\n",
    "    \n",
    "\n",
    "def get_random_hash_functions(n):\n",
    "    \n",
    "    hash_funcs = [ [random.randint(0,1000), random.randint(0,1000) ] for i in range(n)] \n",
    "    \n",
    "    return hash_funcs\n",
    "\n",
    "def get_hashed_value(x, a, b):\n",
    "    return int((x*a+b) % 4294967311)\n",
    "\n",
    "def get_min_hashed_matrix(matrix, n=1000):\n",
    "    \n",
    "    doc_hash_matrix = np.zeros((n, matrix.shape[1]))\n",
    "    hash_funcs = get_random_hash_functions(n)\n",
    "    all_doc_signature = []\n",
    "\n",
    "    for i in range(matrix.shape[1]):\n",
    "        \n",
    "        doc_signature  = [] \n",
    "        doc  = matrix[:, i:i+1]\n",
    "        doc  =[i  for i in doc if i !=0 ]\n",
    "        \n",
    "        for _hash in hash_funcs:            \n",
    "            _shingle_hash = []\n",
    "            for shingle_id in doc:\n",
    "                _shingle_hash.append(get_hashed_value(shingle_id, _hash[0], _hash[1]))  \n",
    "            doc_signature.append(min(_shingle_hash))\n",
    "        \n",
    "        all_doc_signature.append(doc_signature)\n",
    "    \n",
    "    return all_doc_signature\n",
    "        \n",
    "def minhash_doc_signature(matrix,n=12):\n",
    "    hash_funcs = get_random_hash_functions(n)    \n",
    "    hash_value = []\n",
    "    for func in hash_funcs:\n",
    "        val = [get_hashed_value(i,func[0],func[1]) for i in range(matrix.shape[0])]\n",
    "        hash_value.append(val)\n",
    "    signature_matrix = np.zeros((n,matrix.shape[1])) + float('inf')\n",
    "    for c in range(matrix.shape[1]):\n",
    "        for r in range(matrix.shape[0]):\n",
    "            if matrix[r,c] != 0:\n",
    "                for i in range(n):\n",
    "                    hi = hash_value[i]\n",
    "                    signature_matrix[i,c] = min(signature_matrix[i,c],hi[r])\n",
    "    return signature_matrix\n",
    "\n"
   ]
  },
  {
   "cell_type": "code",
   "execution_count": 715,
   "metadata": {},
   "outputs": [],
   "source": [
    "d0 = \"how are you doing\"\n",
    "d1 = \"how are you\"\n",
    "d2 = \"the quick brown fox jumped over a lazy dog\"\n",
    "d3 = \"the quick dog fox jumped over a lazy cat\"\n",
    "d4 = \"a lazy dog\"\n",
    "d5 = \"minhashing is a technique\"\n",
    "d6 = \"minhash is effiencent\"\n",
    "d7 = \"I'm doing minhashing\"\n",
    "docs = [d0,d1,d2,d3,d4,d5,d6,d7]"
   ]
  },
  {
   "cell_type": "code",
   "execution_count": 718,
   "metadata": {},
   "outputs": [
    {
     "data": {
      "text/plain": [
       "(1000, 8)"
      ]
     },
     "execution_count": 718,
     "metadata": {},
     "output_type": "execute_result"
    }
   ],
   "source": [
    "k = 3\n",
    "doc_shingles = get_document_shingles(docs,k)\n",
    "matrix, rows = get_shingles_vs_docs(doc_shingles)\n",
    "signature_matrix = minhash_doc_signature(matrix,1000)\n",
    "signature_matrix.shape"
   ]
  },
  {
   "cell_type": "code",
   "execution_count": null,
   "metadata": {},
   "outputs": [],
   "source": []
  },
  {
   "cell_type": "code",
   "execution_count": null,
   "metadata": {},
   "outputs": [],
   "source": []
  },
  {
   "cell_type": "code",
   "execution_count": null,
   "metadata": {},
   "outputs": [],
   "source": []
  },
  {
   "cell_type": "code",
   "execution_count": 705,
   "metadata": {},
   "outputs": [],
   "source": []
  },
  {
   "cell_type": "code",
   "execution_count": 706,
   "metadata": {},
   "outputs": [],
   "source": []
  },
  {
   "cell_type": "code",
   "execution_count": null,
   "metadata": {},
   "outputs": [],
   "source": []
  },
  {
   "cell_type": "code",
   "execution_count": null,
   "metadata": {},
   "outputs": [],
   "source": []
  },
  {
   "cell_type": "code",
   "execution_count": null,
   "metadata": {},
   "outputs": [],
   "source": []
  },
  {
   "cell_type": "code",
   "execution_count": null,
   "metadata": {},
   "outputs": [],
   "source": []
  }
 ],
 "metadata": {
  "kernelspec": {
   "display_name": "Python 3",
   "language": "python",
   "name": "python3"
  },
  "language_info": {
   "codemirror_mode": {
    "name": "ipython",
    "version": 3
   },
   "file_extension": ".py",
   "mimetype": "text/x-python",
   "name": "python",
   "nbconvert_exporter": "python",
   "pygments_lexer": "ipython3",
   "version": "3.6.5"
  }
 },
 "nbformat": 4,
 "nbformat_minor": 4
}
